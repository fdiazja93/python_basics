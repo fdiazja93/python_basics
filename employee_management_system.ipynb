{
 "cells": [
  {
   "cell_type": "markdown",
   "metadata": {},
   "source": [
    "## Employee Management System"
   ]
  },
  {
   "cell_type": "markdown",
   "metadata": {},
   "source": [
    "IIIIIIIn this exercise, we are asked to create classes to manage the employee system of a company. First, we are asked to create a class called Employee to create objects with the following atributes:\n",
    "\n",
    "- 'name'.\n",
    "- 'position'.\n",
    "- 'salary'.\n",
    "\n",
    "and a method __ __str__ __() to return a string representation of the employee's information.\n",
    "\n",
    "Then, we are asked to create a class called Department with attributes:\n",
    "\n",
    "- 'employees'.\n",
    "\n",
    "and methods that allow us to:\n",
    "\n",
    "- Add new employees.\n",
    "- Remove employees.\n",
    "- Know the salary of all the employees combined.\n",
    "- Know the name of all employees of the department. "
   ]
  },
  {
   "cell_type": "code",
   "execution_count": 1,
   "metadata": {},
   "outputs": [],
   "source": [
    "from numbers import Real\n",
    "# Hello\n",
    "\n",
    "class Employee:\n",
    "    \"\"\" \n",
    "    Stores the information of an employee.\n",
    "    \n",
    "    Methods:\n",
    "    __str__(): Returns a string representation of the employee.\n",
    "    \"\"\"\n",
    "\n",
    "    def __init__(self, name: str, position: str, salary: Real):\n",
    "        \"\"\"\n",
    "        Initializes an instance of the Employee class.\n",
    "\n",
    "        Parameters:\n",
    "        name (str): Name of the employee.\n",
    "        position (str): Position of the employee in the department.\n",
    "        salary (Real): Current salary of the employee.\n",
    "        \"\"\"\n",
    "\n",
    "        if not isinstance(name, str):\n",
    "            raise ValueError('The name of the employee should be a string.')\n",
    "        \n",
    "        if not isinstance(position, str):\n",
    "            raise ValueError('The position of the employee should be a string.')\n",
    "        \n",
    "        if not isinstance(salary, Real):\n",
    "            raise ValueError('The salary of the employee should be a real number.')\n",
    "\n",
    "        self.name = name\n",
    "        self.position = position\n",
    "        self.salary = salary\n",
    "\n",
    "    def __str__(self):\n",
    "        \"\"\" \n",
    "        Returns a string representation of an instance of the Employee class.\n",
    "        \"\"\"\n",
    "        \n",
    "        return f'{self.name} works as a {self.position} and earns {self.salary:.2f} euros.'\n"
   ]
  },
  {
   "cell_type": "code",
   "execution_count": 2,
   "metadata": {},
   "outputs": [],
   "source": [
    "class Department:\n",
    "    \"\"\" \n",
    "    Stores the information of employees working in the department.\n",
    "\n",
    "    Methods:\n",
    "    display_members(): Prints the information of all the employees in the department.\n",
    "    add_employees(*employees): Adds one or more employees to the department.\n",
    "    remove_employees(*names_of_employees): Removes from the department employees with names in *names_of_employees.\n",
    "    total_salary(): Computes the sum of the salaries of everyone in the department.\n",
    "    names_of_all_employees(): Returns a list with the names of all the employees in the department. \n",
    "    \"\"\"\n",
    "\n",
    "    def __init__(self, *employees: Employee):\n",
    "        \"\"\"\n",
    "        Initializes an instance of the Department class.\n",
    "\n",
    "        Parameters:\n",
    "        *employees (Employee): One or more employees that work in the department.\n",
    "        \"\"\"\n",
    "        \n",
    "        for employee in employees:\n",
    "            if not isinstance(employee, Employee):\n",
    "                raise ValueError('Each input must be an instance of Employee!')\n",
    "\n",
    "        self.employees = list(employees)\n",
    "\n",
    "    def display_members(self):\n",
    "        \"\"\"\n",
    "        Displays the information of all the employees in the department.\n",
    "        \"\"\"\n",
    "\n",
    "        for employee in self.employees:\n",
    "            print(employee)\n",
    "\n",
    "    def add_employees(self, *employees: Employee):\n",
    "        \"\"\" \n",
    "        Adds new employees to the department.\n",
    "\n",
    "        Parameters:\n",
    "        *employees (Employee): One or more employees to add to the department.\n",
    "        \"\"\"\n",
    "\n",
    "        for employee in employees:\n",
    "            if not isinstance(employee, Employee):\n",
    "                raise ValueError('Each input must be an instance of Employee!')\n",
    "\n",
    "        self.employees.extend(employees)\n",
    "\n",
    "    def remove_employees(self, *names_of_employees: str):\n",
    "        \"\"\" \n",
    "        Removes employees from the department.\n",
    "    \n",
    "        Parameters:\n",
    "        *names_of_employees (str): One or more names of employees to be removed from the department.\n",
    "        \"\"\"\n",
    "\n",
    "        for name in names_of_employees:\n",
    "            if not isinstance(name, str):\n",
    "                raise ValueError('Each name of the employee should be a string!')\n",
    "            \n",
    "        self.employees = [employee for employee in self.employees if employee.name not in names_of_employees]\n",
    "\n",
    "    def total_salary(self) -> float:\n",
    "        \"\"\" \n",
    "        Returns the sum of the salaries of all employees in the department.\n",
    "        \"\"\"\n",
    "\n",
    "        return sum(employee.salary for employee in self.employees)\n",
    "    \n",
    "    def names_of_all_employees(self) -> list:\n",
    "        \"\"\" \n",
    "        Returns a list with the names of all the employees in the department.\n",
    "        \"\"\"\n",
    "\n",
    "        return [employee.name for employee in self.employees]\n"
   ]
  },
  {
   "cell_type": "code",
   "execution_count": 3,
   "metadata": {},
   "outputs": [
    {
     "data": {
      "text/plain": [
       "'Felipe works as a scientist and earns 3000.00 euros.'"
      ]
     },
     "execution_count": 3,
     "metadata": {},
     "output_type": "execute_result"
    }
   ],
   "source": [
    "F = Employee('Felipe', 'scientist', 3000.)\n",
    "R = Employee('Roberto', 'senior scientist', 4000.)\n",
    "O = Employee('Olaf', 'group leader', 5000.)\n",
    "S = Employee('Sylvia', 'secretary', 2500.)\n",
    "B = str(F)\n",
    "B"
   ]
  },
  {
   "cell_type": "code",
   "execution_count": 4,
   "metadata": {},
   "outputs": [
    {
     "name": "stdout",
     "output_type": "stream",
     "text": [
      "Felipe works as a scientist and earns 3000.00 euros.\n",
      "Olaf works as a group leader and earns 5000.00 euros.\n"
     ]
    }
   ],
   "source": [
    "department = Department(F, O)\n",
    "department.display_members()"
   ]
  },
  {
   "cell_type": "code",
   "execution_count": 5,
   "metadata": {},
   "outputs": [
    {
     "name": "stdout",
     "output_type": "stream",
     "text": [
      "Felipe works as a scientist and earns 3000.00 euros.\n",
      "Olaf works as a group leader and earns 5000.00 euros.\n",
      "Sylvia works as a secretary and earns 2500.00 euros.\n",
      "Roberto works as a senior scientist and earns 4000.00 euros.\n"
     ]
    }
   ],
   "source": [
    "department.add_employees(S, R)\n",
    "department.display_members()"
   ]
  },
  {
   "cell_type": "code",
   "execution_count": 6,
   "metadata": {},
   "outputs": [
    {
     "name": "stdout",
     "output_type": "stream",
     "text": [
      "Felipe works as a scientist and earns 3000.00 euros.\n",
      "Roberto works as a senior scientist and earns 4000.00 euros.\n"
     ]
    },
    {
     "data": {
      "text/plain": [
       "7000.0"
      ]
     },
     "execution_count": 6,
     "metadata": {},
     "output_type": "execute_result"
    }
   ],
   "source": [
    "department.remove_employees('Sylvia', 'Olaf')\n",
    "department.display_members()\n",
    "department.total_salary()"
   ]
  },
  {
   "cell_type": "code",
   "execution_count": 7,
   "metadata": {},
   "outputs": [
    {
     "data": {
      "text/plain": [
       "['Felipe', 'Roberto']"
      ]
     },
     "execution_count": 7,
     "metadata": {},
     "output_type": "execute_result"
    }
   ],
   "source": [
    "N = department.names_of_all_employees()\n",
    "N"
   ]
  },
  {
   "cell_type": "code",
   "execution_count": null,
   "metadata": {},
   "outputs": [],
   "source": []
  }
 ],
 "metadata": {
  "kernelspec": {
   "display_name": "Python 3",
   "language": "python",
   "name": "python3"
  },
  "language_info": {
   "codemirror_mode": {
    "name": "ipython",
    "version": 3
   },
   "file_extension": ".py",
   "mimetype": "text/x-python",
   "name": "python",
   "nbconvert_exporter": "python",
   "pygments_lexer": "ipython3",
   "version": "3.9.6"
  }
 },
 "nbformat": 4,
 "nbformat_minor": 2
}
