{
 "cells": [
  {
   "cell_type": "markdown",
   "metadata": {},
   "source": [
    "## Library Management System"
   ]
  },
  {
   "cell_type": "markdown",
   "metadata": {},
   "source": [
    "HHHIIIIIIIIn this exercise, we are asked to create classes to manage a library system. We have to create a class called 'Book' with information encoded in the following attributes:\n",
    "\n",
    "- 'title'.\n",
    "- 'author'.\n",
    "- 'copies'.\n",
    "\n",
    "Then we are asked to create a class called 'Library' that manages a collection of books by using methods that:\n",
    "\n",
    "- Add and store books to the collection.\n",
    "- Borrow a book from the collection by its title.\n",
    "- Return a book to the library.\n",
    "- Display the available books in the library."
   ]
  },
  {
   "cell_type": "code",
   "execution_count": 1,
   "metadata": {},
   "outputs": [],
   "source": [
    "class Book:\n",
    "    \"\"\"\n",
    "    This class stores the information of a book.\n",
    "\n",
    "    Methods:\n",
    "    display_book_info(): Displays all the information of the book.\n",
    "    \"\"\"\n",
    "\n",
    "    def __init__(self, title: str, author: str, copies: int):\n",
    "        \"\"\"\n",
    "        Initializes instances of the class Book.\n",
    "        \n",
    "        Parameters:\n",
    "        title (str): The title of the book.\n",
    "        author (str): The author of the book.\n",
    "        copies (int): The number of copies available in the library.\n",
    "        \"\"\"\n",
    "\n",
    "        if not isinstance(title, str):\n",
    "            raise ValueError('The title of the book must be a string!')\n",
    "        if not isinstance(author, str):\n",
    "            raise ValueError('The name of the author must be a string!')\n",
    "        if not isinstance(copies, int):\n",
    "            raise ValueError('The number of copies of the book must be an integer!')\n",
    "\n",
    "        self.title = title\n",
    "        self.author = author\n",
    "        self.copies = copies\n",
    "\n",
    "    def display_book_info(self):\n",
    "        \"\"\"\n",
    "        Displays all the information of the book.\n",
    "        \"\"\"\n",
    "        \n",
    "        print(f'{self.title} was written by {self.author} and there are {self.copies} copies available.')"
   ]
  },
  {
   "cell_type": "code",
   "execution_count": 2,
   "metadata": {},
   "outputs": [],
   "source": [
    "class Library:\n",
    "    \"\"\"\n",
    "    This class defines a library that contains books.\n",
    "\n",
    "    Methods:\n",
    "    display_library_info(): Displays all the books of the library and their information.\n",
    "    add_books(*books): Adds new books to the library.\n",
    "    available_books(): Returns a dictionary of available books.\n",
    "    borrow_books(*titles): Allows the user to borrow books by their titles.\n",
    "    return_books(*titles): Allows the user to return books by their titles.\n",
    "    \"\"\"\n",
    "\n",
    "    def __init__(self, *books: Book):\n",
    "        \"\"\"\n",
    "        Initializes instances of the class Library.\n",
    "        \n",
    "        Parameters:\n",
    "        *books (Book): One or more books to start the library.\n",
    "        \"\"\"\n",
    "\n",
    "        for book in books:\n",
    "            if not isinstance(book, Book):\n",
    "                raise ValueError('The library only accepts books!')\n",
    "            \n",
    "        self.books = list(books)\n",
    "\n",
    "    def display_library_info(self):\n",
    "        \"\"\"\n",
    "        Displays the information of all the books in the library.\n",
    "        \"\"\"\n",
    "\n",
    "        for book in self.books:\n",
    "            book.display_book_info()\n",
    "\n",
    "    def add_books(self, *books: Book):\n",
    "        \"\"\"\n",
    "        Adds books to the library.\n",
    "        \n",
    "        Parameters:\n",
    "        *books (Book): One or more new books to be added to the library.\n",
    "        \"\"\"\n",
    "\n",
    "        for book in books:\n",
    "            if not isinstance(book, Book):\n",
    "                raise ValueError('The library only accepts books!')\n",
    "\n",
    "        self.books.extend(books)\n",
    "\n",
    "    def available_books(self):\n",
    "        \"\"\"\n",
    "        Returns a dictionary of available books with titles as keys and book objects as values.\n",
    "        \"\"\"\n",
    "\n",
    "        return {book.title: book for book in self.books if book.copies > 0}\n",
    "\n",
    "    def borrow_books(self, *titles: str):\n",
    "        \"\"\"\n",
    "        Allows the user to borrow books from the library.\n",
    "        \n",
    "        Parameters:\n",
    "        *titles (str): The titles of one or more books to be borrowed from the library.\n",
    "        \n",
    "        Reduces the number of copies of the books with the given titles.\n",
    "        \"\"\"\n",
    "\n",
    "        for title in titles:\n",
    "            if not isinstance(title, str):\n",
    "                raise ValueError('Enter the name of the book that you want to borrow as a string!')\n",
    "\n",
    "        available_books = self.available_books()\n",
    "\n",
    "        for title in titles:\n",
    "            if title not in available_books:\n",
    "                raise ValueError(f'The book \"{title}\" is not available!')\n",
    "\n",
    "        for title in titles:\n",
    "            borrowed_book = available_books[title]\n",
    "            borrowed_book.copies -= 1\n",
    "\n",
    "    def return_books(self, *titles: str):\n",
    "        \"\"\"\n",
    "        Allows the user to return books to the library.\n",
    "        \n",
    "        Parameters:\n",
    "        *titles (str): The titles of one or more books to be returned to the library.\n",
    "        \n",
    "        Increases the number of copies of the books with the given titles by 1.\n",
    "        \"\"\"\n",
    "        \n",
    "        for title in titles:\n",
    "            if not isinstance(title, str):\n",
    "                raise ValueError('The title(s) of the book(s) should be strings!')\n",
    "\n",
    "        book_titles_in_lib = [book.title for book in self.books]\n",
    "\n",
    "        for title in titles:\n",
    "            if title not in book_titles_in_lib:\n",
    "                raise ValueError(f'\"{title}\" is not part of our collection!')\n",
    "\n",
    "        for book in self.books:\n",
    "            if book.title in titles:\n",
    "                book.copies += 1\n"
   ]
  },
  {
   "cell_type": "code",
   "execution_count": 3,
   "metadata": {},
   "outputs": [
    {
     "name": "stdout",
     "output_type": "stream",
     "text": [
      "The Fellowship of the Ring was written by J.R.R. Tolkien and there are 6 copies available.\n"
     ]
    }
   ],
   "source": [
    "H = Book('The Hobbit', 'J.R.R. Tolkien', 1)\n",
    "L = Book('The Fellowship of the Ring', 'J.R.R. Tolkien', 6)\n",
    "L.display_book_info()"
   ]
  },
  {
   "cell_type": "code",
   "execution_count": 4,
   "metadata": {},
   "outputs": [
    {
     "name": "stdout",
     "output_type": "stream",
     "text": [
      "The Hobbit was written by J.R.R. Tolkien and there are 1 copies available.\n",
      "The Fellowship of the Ring was written by J.R.R. Tolkien and there are 6 copies available.\n"
     ]
    }
   ],
   "source": [
    "library = Library(H)\n",
    "library.add_books(L)\n",
    "library.display_library_info()"
   ]
  },
  {
   "cell_type": "code",
   "execution_count": 5,
   "metadata": {},
   "outputs": [
    {
     "name": "stdout",
     "output_type": "stream",
     "text": [
      "The Hobbit was written by J.R.R. Tolkien and there are 0 copies available.\n",
      "The Fellowship of the Ring was written by J.R.R. Tolkien and there are 6 copies available.\n"
     ]
    }
   ],
   "source": [
    "library.borrow_books('The Hobbit')\n",
    "library.display_library_info()"
   ]
  },
  {
   "cell_type": "code",
   "execution_count": 6,
   "metadata": {},
   "outputs": [
    {
     "data": {
      "text/plain": [
       "{'The Fellowship of the Ring': <__main__.Book at 0x1148894f0>}"
      ]
     },
     "execution_count": 6,
     "metadata": {},
     "output_type": "execute_result"
    }
   ],
   "source": [
    "A = library.available_books()\n",
    "A"
   ]
  },
  {
   "cell_type": "code",
   "execution_count": 7,
   "metadata": {},
   "outputs": [
    {
     "name": "stdout",
     "output_type": "stream",
     "text": [
      "The Hobbit was written by J.R.R. Tolkien and there are 0 copies available.\n",
      "The Fellowship of the Ring was written by J.R.R. Tolkien and there are 6 copies available.\n"
     ]
    }
   ],
   "source": [
    "library.display_library_info()"
   ]
  },
  {
   "cell_type": "code",
   "execution_count": 8,
   "metadata": {},
   "outputs": [
    {
     "name": "stdout",
     "output_type": "stream",
     "text": [
      "The Hobbit was written by J.R.R. Tolkien and there are 1 copies available.\n",
      "The Fellowship of the Ring was written by J.R.R. Tolkien and there are 6 copies available.\n"
     ]
    }
   ],
   "source": [
    "library.return_books('The Hobbit')\n",
    "library.display_library_info()"
   ]
  }
 ],
 "metadata": {
  "kernelspec": {
   "display_name": "Python 3",
   "language": "python",
   "name": "python3"
  },
  "language_info": {
   "codemirror_mode": {
    "name": "ipython",
    "version": 3
   },
   "file_extension": ".py",
   "mimetype": "text/x-python",
   "name": "python",
   "nbconvert_exporter": "python",
   "pygments_lexer": "ipython3",
   "version": "3.9.6"
  }
 },
 "nbformat": 4,
 "nbformat_minor": 2
}
